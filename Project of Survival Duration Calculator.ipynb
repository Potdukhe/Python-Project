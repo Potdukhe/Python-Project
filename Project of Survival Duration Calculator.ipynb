{
  "nbformat": 4,
  "nbformat_minor": 0,
  "metadata": {
    "colab": {
      "provenance": []
    },
    "kernelspec": {
      "name": "python3",
      "display_name": "Python 3"
    },
    "language_info": {
      "name": "python"
    }
  },
  "cells": [
    {
      "cell_type": "code",
      "execution_count": 1,
      "metadata": {
        "colab": {
          "base_uri": "https://localhost:8080/"
        },
        "id": "ilm6VnUqJbBu",
        "outputId": "72152015-dbe4-4d1d-aa3e-c2237485f10b"
      },
      "outputs": [
        {
          "output_type": "stream",
          "name": "stdout",
          "text": [
            "What's your age? 10\n",
            "Please choose time unit: Months\n",
            "You lived for 120 Months\n"
          ]
        }
      ],
      "source": [
        "class SurvivalDurationCalculator:\n",
        "    def __init__(self, age):\n",
        "        self.age = age\n",
        "\n",
        "    def calculate_duration(self, unit):\n",
        "        if unit.lower() in ['months', 'm']:\n",
        "            return self.age * 12\n",
        "        elif unit.lower() in ['weeks', 'w']:\n",
        "            return self.age * 52\n",
        "        elif unit.lower() in ['days', 'd']:\n",
        "            return self.age * 365\n",
        "        elif unit.lower() in ['hours', 'h']:\n",
        "            return self.age * 8760\n",
        "        elif unit.lower() in ['minutes', 'min']:\n",
        "            return self.age * 525600\n",
        "        elif unit.lower() in ['seconds', 'sec']:\n",
        "            return self.age * 31536000\n",
        "        else:\n",
        "            return \"Invalid unit. Please choose from Months, Weeks, Days, Hours, Minutes, Seconds.\"\n",
        "\n",
        "age = int(input(\"What's your age? \"))\n",
        "calculator = SurvivalDurationCalculator(age)\n",
        "unit = input(\"Please choose time unit: \")\n",
        "print(f\"You lived for {calculator.calculate_duration(unit)} {unit}\")\n"
      ]
    }
  ]
}